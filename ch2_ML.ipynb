{
  "nbformat": 4,
  "nbformat_minor": 0,
  "metadata": {
    "colab": {
      "name": "ch2 ML",
      "provenance": [],
      "authorship_tag": "ABX9TyO+Jmyv0MALSyJG6eky7I0F",
      "include_colab_link": true
    },
    "kernelspec": {
      "name": "python3",
      "display_name": "Python 3"
    },
    "accelerator": "GPU"
  },
  "cells": [
    {
      "cell_type": "markdown",
      "metadata": {
        "id": "view-in-github",
        "colab_type": "text"
      },
      "source": [
        "<a href=\"https://colab.research.google.com/github/jenius13/Practice/blob/master/ch2_ML.ipynb\" target=\"_parent\"><img src=\"https://colab.research.google.com/assets/colab-badge.svg\" alt=\"Open In Colab\"/></a>"
      ]
    },
    {
      "cell_type": "code",
      "metadata": {
        "id": "NWzjFFWeSHVN",
        "colab_type": "code",
        "colab": {
          "base_uri": "https://localhost:8080/",
          "height": 118
        },
        "outputId": "a9f1c455-78d5-4a59-d019-85fa002de659"
      },
      "source": [
        "import numpy as np\n",
        "from keras.utils import to_categorical\n",
        "from keras.datasets import cifar10\n",
        "\n",
        "(x_train,y_train),(x_test,y_test)=cifar10.load_data()\n",
        "\n",
        "NUM_CLASSES=10\n",
        "\n",
        "x_train=x_train.astype('float32')/255.0\n",
        "x_test=x_test.astype('float32')/255.0\n",
        "\n",
        "y_train=to_categorical(y_train,NUM_CLASSES)\n",
        "y_test=to_categorical(y_test,NUM_CLASSES)"
      ],
      "execution_count": 2,
      "outputs": [
        {
          "output_type": "stream",
          "text": [
            "Using TensorFlow backend.\n"
          ],
          "name": "stderr"
        },
        {
          "output_type": "display_data",
          "data": {
            "text/html": [
              "<p style=\"color: red;\">\n",
              "The default version of TensorFlow in Colab will soon switch to TensorFlow 2.x.<br>\n",
              "We recommend you <a href=\"https://www.tensorflow.org/guide/migrate\" target=\"_blank\">upgrade</a> now \n",
              "or ensure your notebook will continue to use TensorFlow 1.x via the <code>%tensorflow_version 1.x</code> magic:\n",
              "<a href=\"https://colab.research.google.com/notebooks/tensorflow_version.ipynb\" target=\"_blank\">more info</a>.</p>\n"
            ],
            "text/plain": [
              "<IPython.core.display.HTML object>"
            ]
          },
          "metadata": {
            "tags": []
          }
        },
        {
          "output_type": "stream",
          "text": [
            "Downloading data from https://www.cs.toronto.edu/~kriz/cifar-10-python.tar.gz\n",
            "170500096/170498071 [==============================] - 2s 0us/step\n"
          ],
          "name": "stdout"
        }
      ]
    },
    {
      "cell_type": "code",
      "metadata": {
        "id": "3_jhhkivT0JM",
        "colab_type": "code",
        "colab": {}
      },
      "source": [
        "import warnings\n",
        "\n",
        "warnings.filterwarnings(action='ignore')\n"
      ],
      "execution_count": 0,
      "outputs": []
    },
    {
      "cell_type": "code",
      "metadata": {
        "id": "sl6eD-BXUAvz",
        "colab_type": "code",
        "colab": {
          "base_uri": "https://localhost:8080/",
          "height": 35
        },
        "outputId": "78cc29fb-cef4-4698-b71e-8babdbe27f5f"
      },
      "source": [
        "x_test.shape"
      ],
      "execution_count": 4,
      "outputs": [
        {
          "output_type": "execute_result",
          "data": {
            "text/plain": [
              "(10000, 32, 32, 3)"
            ]
          },
          "metadata": {
            "tags": []
          },
          "execution_count": 4
        }
      ]
    },
    {
      "cell_type": "code",
      "metadata": {
        "id": "uDjlRm3qUJ1R",
        "colab_type": "code",
        "colab": {
          "base_uri": "https://localhost:8080/",
          "height": 413
        },
        "outputId": "6d280db5-c8db-4dbb-ee4a-5bd4faf7b975"
      },
      "source": [
        "from keras.models import Sequential\n",
        "from keras.layers import Dense,Flatten\n",
        "\n",
        "model=Sequential([\n",
        "                  Dense(200,activation='relu',input_shape=(32,32,3)),\n",
        "                  Flatten(),\n",
        "                  Dense(100,activation='relu'),\n",
        "                  Dense(10,activation='softmax')\n",
        "]\n",
        "    \n",
        ")\n",
        "\n",
        "model.summary()"
      ],
      "execution_count": 5,
      "outputs": [
        {
          "output_type": "stream",
          "text": [
            "WARNING:tensorflow:From /usr/local/lib/python3.6/dist-packages/keras/backend/tensorflow_backend.py:66: The name tf.get_default_graph is deprecated. Please use tf.compat.v1.get_default_graph instead.\n",
            "\n",
            "WARNING:tensorflow:From /usr/local/lib/python3.6/dist-packages/keras/backend/tensorflow_backend.py:541: The name tf.placeholder is deprecated. Please use tf.compat.v1.placeholder instead.\n",
            "\n",
            "WARNING:tensorflow:From /usr/local/lib/python3.6/dist-packages/keras/backend/tensorflow_backend.py:4432: The name tf.random_uniform is deprecated. Please use tf.random.uniform instead.\n",
            "\n",
            "Model: \"sequential_1\"\n",
            "_________________________________________________________________\n",
            "Layer (type)                 Output Shape              Param #   \n",
            "=================================================================\n",
            "dense_1 (Dense)              (None, 32, 32, 200)       800       \n",
            "_________________________________________________________________\n",
            "flatten_1 (Flatten)          (None, 204800)            0         \n",
            "_________________________________________________________________\n",
            "dense_2 (Dense)              (None, 100)               20480100  \n",
            "_________________________________________________________________\n",
            "dense_3 (Dense)              (None, 10)                1010      \n",
            "=================================================================\n",
            "Total params: 20,481,910\n",
            "Trainable params: 20,481,910\n",
            "Non-trainable params: 0\n",
            "_________________________________________________________________\n"
          ],
          "name": "stdout"
        }
      ]
    },
    {
      "cell_type": "code",
      "metadata": {
        "id": "7A35YLG8U2Rm",
        "colab_type": "code",
        "colab": {
          "base_uri": "https://localhost:8080/",
          "height": 89
        },
        "outputId": "0a795256-565c-4c51-a5fe-436904705bc6"
      },
      "source": [
        "model.compile(optimizer='adam',loss='categorical_crossentropy',metrics=['acc'])"
      ],
      "execution_count": 6,
      "outputs": [
        {
          "output_type": "stream",
          "text": [
            "WARNING:tensorflow:From /usr/local/lib/python3.6/dist-packages/keras/optimizers.py:793: The name tf.train.Optimizer is deprecated. Please use tf.compat.v1.train.Optimizer instead.\n",
            "\n",
            "WARNING:tensorflow:From /usr/local/lib/python3.6/dist-packages/keras/backend/tensorflow_backend.py:3576: The name tf.log is deprecated. Please use tf.math.log instead.\n",
            "\n"
          ],
          "name": "stdout"
        }
      ]
    },
    {
      "cell_type": "code",
      "metadata": {
        "id": "KkyWmqzGVZcL",
        "colab_type": "code",
        "colab": {
          "base_uri": "https://localhost:8080/",
          "height": 737
        },
        "outputId": "f64625e9-2361-4459-86fa-30344e564a12"
      },
      "source": [
        "model.fit(x_train,\n",
        "          y_train,\n",
        "          batch_size=32,\n",
        "          epochs=10,\n",
        "          shuffle=True)"
      ],
      "execution_count": 7,
      "outputs": [
        {
          "output_type": "stream",
          "text": [
            "WARNING:tensorflow:From /usr/local/lib/python3.6/dist-packages/tensorflow_core/python/ops/math_grad.py:1424: where (from tensorflow.python.ops.array_ops) is deprecated and will be removed in a future version.\n",
            "Instructions for updating:\n",
            "Use tf.where in 2.0, which has the same broadcast rule as np.where\n",
            "WARNING:tensorflow:From /usr/local/lib/python3.6/dist-packages/keras/backend/tensorflow_backend.py:1033: The name tf.assign_add is deprecated. Please use tf.compat.v1.assign_add instead.\n",
            "\n",
            "WARNING:tensorflow:From /usr/local/lib/python3.6/dist-packages/keras/backend/tensorflow_backend.py:1020: The name tf.assign is deprecated. Please use tf.compat.v1.assign instead.\n",
            "\n",
            "WARNING:tensorflow:From /usr/local/lib/python3.6/dist-packages/keras/backend/tensorflow_backend.py:3005: The name tf.Session is deprecated. Please use tf.compat.v1.Session instead.\n",
            "\n",
            "Epoch 1/10\n",
            "WARNING:tensorflow:From /usr/local/lib/python3.6/dist-packages/keras/backend/tensorflow_backend.py:190: The name tf.get_default_session is deprecated. Please use tf.compat.v1.get_default_session instead.\n",
            "\n",
            "WARNING:tensorflow:From /usr/local/lib/python3.6/dist-packages/keras/backend/tensorflow_backend.py:197: The name tf.ConfigProto is deprecated. Please use tf.compat.v1.ConfigProto instead.\n",
            "\n",
            "WARNING:tensorflow:From /usr/local/lib/python3.6/dist-packages/keras/backend/tensorflow_backend.py:207: The name tf.global_variables is deprecated. Please use tf.compat.v1.global_variables instead.\n",
            "\n",
            "WARNING:tensorflow:From /usr/local/lib/python3.6/dist-packages/keras/backend/tensorflow_backend.py:216: The name tf.is_variable_initialized is deprecated. Please use tf.compat.v1.is_variable_initialized instead.\n",
            "\n",
            "WARNING:tensorflow:From /usr/local/lib/python3.6/dist-packages/keras/backend/tensorflow_backend.py:223: The name tf.variables_initializer is deprecated. Please use tf.compat.v1.variables_initializer instead.\n",
            "\n",
            "50000/50000 [==============================] - 43s 859us/step - loss: 1.7181 - acc: 0.4299\n",
            "Epoch 2/10\n",
            "50000/50000 [==============================] - 33s 660us/step - loss: 1.4174 - acc: 0.5016\n",
            "Epoch 3/10\n",
            "50000/50000 [==============================] - 33s 656us/step - loss: 1.3328 - acc: 0.5318\n",
            "Epoch 4/10\n",
            "50000/50000 [==============================] - 33s 658us/step - loss: 1.2740 - acc: 0.5507\n",
            "Epoch 5/10\n",
            "50000/50000 [==============================] - 33s 655us/step - loss: 1.2195 - acc: 0.5709\n",
            "Epoch 6/10\n",
            "50000/50000 [==============================] - 33s 655us/step - loss: 1.1655 - acc: 0.5900\n",
            "Epoch 7/10\n",
            "50000/50000 [==============================] - 33s 657us/step - loss: 1.1112 - acc: 0.6091\n",
            "Epoch 8/10\n",
            "50000/50000 [==============================] - 33s 655us/step - loss: 1.0603 - acc: 0.6288\n",
            "Epoch 9/10\n",
            "50000/50000 [==============================] - 33s 653us/step - loss: 1.0102 - acc: 0.6475\n",
            "Epoch 10/10\n",
            "50000/50000 [==============================] - 33s 653us/step - loss: 0.9618 - acc: 0.6632\n"
          ],
          "name": "stdout"
        },
        {
          "output_type": "execute_result",
          "data": {
            "text/plain": [
              "<keras.callbacks.History at 0x7f75cc87ae48>"
            ]
          },
          "metadata": {
            "tags": []
          },
          "execution_count": 7
        }
      ]
    },
    {
      "cell_type": "code",
      "metadata": {
        "id": "A5fKtoJpV6Yf",
        "colab_type": "code",
        "colab": {
          "base_uri": "https://localhost:8080/",
          "height": 53
        },
        "outputId": "f6a5dcb3-2f4e-4861-8033-ce3e31d25007"
      },
      "source": [
        "model.evaluate(x_test,y_test)"
      ],
      "execution_count": 8,
      "outputs": [
        {
          "output_type": "stream",
          "text": [
            "10000/10000 [==============================] - 1s 119us/step\n"
          ],
          "name": "stdout"
        },
        {
          "output_type": "execute_result",
          "data": {
            "text/plain": [
              "[1.5107338954925538, 0.5114]"
            ]
          },
          "metadata": {
            "tags": []
          },
          "execution_count": 8
        }
      ]
    },
    {
      "cell_type": "code",
      "metadata": {
        "id": "kMy-HibWYbb7",
        "colab_type": "code",
        "colab": {}
      },
      "source": [
        "CLASSES=np.array(['airplane','automobile','bird','cat','deer','dog','frog','horse','ship','truck'])\n",
        "\n",
        "preds=model.predict(x_test)\n",
        "pred_single=CLASSES[np.argmax(preds,axis=-1)]\n",
        "actual_single=CLASSES[np.argmax(y_test,axis=-1)]"
      ],
      "execution_count": 0,
      "outputs": []
    },
    {
      "cell_type": "code",
      "metadata": {
        "id": "lp5J49noY_e3",
        "colab_type": "code",
        "colab": {
          "base_uri": "https://localhost:8080/",
          "height": 138
        },
        "outputId": "902e7b02-3dd7-403d-cbc4-8ef277e2f87e"
      },
      "source": [
        "import matplotlib.pyplot as plt\n",
        "\n",
        "n_to_show=10\n",
        "indices=np.random.choice(range(len(x_test)),n_to_show)\n",
        "\n",
        "fig=plt.figure(figsize=(15,3))\n",
        "fig.subplots_adjust(hspace=0.4,wspace=0.4)\n",
        "\n",
        "for i,idx in enumerate(indices):\n",
        "  img=x_test[idx]\n",
        "  ax=fig.add_subplot(1,n_to_show,i+1)\n",
        "  ax.axis('off')\n",
        "  ax.text(0.5,-0.35,'pred='+str(pred_single[idx]),fontsize=10,ha='center',transform=ax.transAxes)\n",
        "  ax.text(0.5,-0.7,'act='+str(actual_single[idx]),fontsize=10,ha='center',transform=ax.transAxes)\n",
        "  ax.imshow(img)\n"
      ],
      "execution_count": 17,
      "outputs": [
        {
          "output_type": "display_data",
          "data": {
            "image/png": "[encoded data removed]",
            "text/plain": [
              "<Figure size 1080x216 with 10 Axes>"
            ]
          },
          "metadata": {
            "tags": []
          }
        }
      ]
    },
    {
      "cell_type": "code",
      "metadata": {
        "id": "RqNrEtjRb6vB",
        "colab_type": "code",
        "colab": {
          "base_uri": "https://localhost:8080/",
          "height": 881
        },
        "outputId": "58ba882c-903e-4729-f8af-a67578ffb850"
      },
      "source": [
        "\n",
        "import numpy as np\n",
        "\n",
        "from keras.layers import Input, Flatten, Dense, Conv2D, BatchNormalization, LeakyReLU, Dropout, Activation\n",
        "from keras.models import Model\n",
        "from keras.optimizers import Adam\n",
        "from keras.utils import to_categorical\n",
        "import keras.backend as K \n",
        "\n",
        "from keras.datasets import cifar10\n",
        "\n",
        "\n",
        "input_layer = Input((32,32,3))\n",
        "\n",
        "x = Conv2D(filters = 32, kernel_size = 3, strides = 1, padding = 'same')(input_layer)\n",
        "x = BatchNormalization()(x)\n",
        "x = LeakyReLU()(x)\n",
        "\n",
        "\n",
        "x = Conv2D(filters = 32, kernel_size = 3, strides = 2, padding = 'same')(x)\n",
        "x = BatchNormalization()(x)\n",
        "x = LeakyReLU()(x)\n",
        "\n",
        "\n",
        "x = Conv2D(filters = 64, kernel_size = 3, strides = 1, padding = 'same')(x)\n",
        "x = BatchNormalization()(x)\n",
        "x = LeakyReLU()(x)\n",
        "\n",
        "\n",
        "x = Conv2D(filters = 64, kernel_size = 3, strides = 2, padding = 'same')(x)\n",
        "x = BatchNormalization()(x)\n",
        "x = LeakyReLU()(x)\n",
        "\n",
        "\n",
        "x = Flatten()(x)\n",
        "\n",
        "x = Dense(128)(x)\n",
        "x = BatchNormalization()(x)\n",
        "x = LeakyReLU()(x)\n",
        "x = Dropout(rate = 0.5)(x)\n",
        "\n",
        "x = Dense(NUM_CLASSES)(x)\n",
        "output_layer = Activation('softmax')(x)\n",
        "\n",
        "model = Model(input_layer, output_layer)\n",
        "\n",
        "model.summary()"
      ],
      "execution_count": 29,
      "outputs": [
        {
          "output_type": "stream",
          "text": [
            "Model: \"model_2\"\n",
            "_________________________________________________________________\n",
            "Layer (type)                 Output Shape              Param #   \n",
            "=================================================================\n",
            "input_4 (InputLayer)         (None, 32, 32, 3)         0         \n",
            "_________________________________________________________________\n",
            "conv2d_11 (Conv2D)           (None, 32, 32, 32)        896       \n",
            "_________________________________________________________________\n",
            "batch_normalization_13 (Batc (None, 32, 32, 32)        128       \n",
            "_________________________________________________________________\n",
            "leaky_re_lu_13 (LeakyReLU)   (None, 32, 32, 32)        0         \n",
            "_________________________________________________________________\n",
            "conv2d_12 (Conv2D)           (None, 16, 16, 32)        9248      \n",
            "_________________________________________________________________\n",
            "batch_normalization_14 (Batc (None, 16, 16, 32)        128       \n",
            "_________________________________________________________________\n",
            "leaky_re_lu_14 (LeakyReLU)   (None, 16, 16, 32)        0         \n",
            "_________________________________________________________________\n",
            "conv2d_13 (Conv2D)           (None, 16, 16, 64)        18496     \n",
            "_________________________________________________________________\n",
            "batch_normalization_15 (Batc (None, 16, 16, 64)        256       \n",
            "_________________________________________________________________\n",
            "leaky_re_lu_15 (LeakyReLU)   (None, 16, 16, 64)        0         \n",
            "_________________________________________________________________\n",
            "conv2d_14 (Conv2D)           (None, 8, 8, 64)          36928     \n",
            "_________________________________________________________________\n",
            "batch_normalization_16 (Batc (None, 8, 8, 64)          256       \n",
            "_________________________________________________________________\n",
            "leaky_re_lu_16 (LeakyReLU)   (None, 8, 8, 64)          0         \n",
            "_________________________________________________________________\n",
            "flatten_5 (Flatten)          (None, 4096)              0         \n",
            "_________________________________________________________________\n",
            "dense_8 (Dense)              (None, 128)               524416    \n",
            "_________________________________________________________________\n",
            "batch_normalization_17 (Batc (None, 128)               512       \n",
            "_________________________________________________________________\n",
            "leaky_re_lu_17 (LeakyReLU)   (None, 128)               0         \n",
            "_________________________________________________________________\n",
            "dropout_3 (Dropout)          (None, 128)               0         \n",
            "_________________________________________________________________\n",
            "dense_9 (Dense)              (None, 10)                1290      \n",
            "_________________________________________________________________\n",
            "activation_3 (Activation)    (None, 10)                0         \n",
            "=================================================================\n",
            "Total params: 592,554\n",
            "Trainable params: 591,914\n",
            "Non-trainable params: 640\n",
            "_________________________________________________________________\n"
          ],
          "name": "stdout"
        }
      ]
    },
    {
      "cell_type": "code",
      "metadata": {
        "id": "22KgkGitdBRd",
        "colab_type": "code",
        "colab": {}
      },
      "source": [
        "\n",
        "model.compile(optimizer=Adam(lr=1e-4),loss='categorical_crossentropy',metrics=['acc'])"
      ],
      "execution_count": 0,
      "outputs": []
    },
    {
      "cell_type": "code",
      "metadata": {
        "id": "lJTTnEAahcie",
        "colab_type": "code",
        "colab": {
          "base_uri": "https://localhost:8080/",
          "height": 413
        },
        "outputId": "05a7df14-4b40-4e64-8ec8-9d603de75d9d"
      },
      "source": [
        "model.fit(x_train,\n",
        "          y_train,\n",
        "          batch_size=32,\n",
        "          epochs=10,\n",
        "          validation_data=(x_test,y_test))"
      ],
      "execution_count": 31,
      "outputs": [
        {
          "output_type": "stream",
          "text": [
            "Train on 50000 samples, validate on 10000 samples\n",
            "Epoch 1/10\n",
            "50000/50000 [==============================] - 24s 472us/step - loss: 1.8190 - acc: 0.3772 - val_loss: 1.3437 - val_acc: 0.5183\n",
            "Epoch 2/10\n",
            "50000/50000 [==============================] - 17s 336us/step - loss: 1.4380 - acc: 0.4910 - val_loss: 1.2006 - val_acc: 0.5730\n",
            "Epoch 3/10\n",
            "50000/50000 [==============================] - 17s 338us/step - loss: 1.2717 - acc: 0.5488 - val_loss: 1.1357 - val_acc: 0.5934\n",
            "Epoch 4/10\n",
            "50000/50000 [==============================] - 17s 347us/step - loss: 1.1614 - acc: 0.5909 - val_loss: 1.0695 - val_acc: 0.6210\n",
            "Epoch 5/10\n",
            "50000/50000 [==============================] - 17s 339us/step - loss: 1.0741 - acc: 0.6204 - val_loss: 1.0729 - val_acc: 0.6165\n",
            "Epoch 6/10\n",
            "50000/50000 [==============================] - 17s 338us/step - loss: 1.0084 - acc: 0.6462 - val_loss: 1.0095 - val_acc: 0.6409\n",
            "Epoch 7/10\n",
            "50000/50000 [==============================] - 17s 334us/step - loss: 0.9541 - acc: 0.6644 - val_loss: 0.9595 - val_acc: 0.6637\n",
            "Epoch 8/10\n",
            "50000/50000 [==============================] - 17s 342us/step - loss: 0.9034 - acc: 0.6836 - val_loss: 0.9510 - val_acc: 0.6649\n",
            "Epoch 9/10\n",
            "50000/50000 [==============================] - 17s 338us/step - loss: 0.8587 - acc: 0.6994 - val_loss: 0.9267 - val_acc: 0.6779\n",
            "Epoch 10/10\n",
            "50000/50000 [==============================] - 17s 336us/step - loss: 0.8286 - acc: 0.7105 - val_loss: 0.9235 - val_acc: 0.6768\n"
          ],
          "name": "stdout"
        },
        {
          "output_type": "execute_result",
          "data": {
            "text/plain": [
              "<keras.callbacks.History at 0x7f7506eb94e0>"
            ]
          },
          "metadata": {
            "tags": []
          },
          "execution_count": 31
        }
      ]
    },
    {
      "cell_type": "code",
      "metadata": {
        "id": "dSNa491ghlC4",
        "colab_type": "code",
        "colab": {
          "base_uri": "https://localhost:8080/",
          "height": 149
        },
        "outputId": "9ea44b96-fdb2-437f-b58a-c0f17c078fa2"
      },
      "source": [
        "model.evaluate(x_test, y_test, batch_size=1000)\n",
        "\n",
        "CLASSES = np.array(['airplane', 'automobile', 'bird', 'cat', 'deer', 'dog', 'frog', 'horse', 'ship', 'truck'])\n",
        "\n",
        "preds = model.predict(x_test)\n",
        "preds_single = CLASSES[np.argmax(preds, axis = -1)]\n",
        "actual_single = CLASSES[np.argmax(y_test, axis = -1)]\n",
        "\n",
        "import matplotlib.pyplot as plt\n",
        "\n",
        "n_to_show = 10\n",
        "indices = np.random.choice(range(len(x_test)), n_to_show)\n",
        "\n",
        "fig = plt.figure(figsize=(15, 3))\n",
        "fig.subplots_adjust(hspace=0.5, wspace=0.5)\n",
        "\n",
        "for i, idx in enumerate(indices):\n",
        "    img = x_test[idx]\n",
        "    ax = fig.add_subplot(1, n_to_show, i+1)\n",
        "    ax.axis('off')\n",
        "    ax.text(0.5, -0.35, 'pred = ' + str(preds_single[idx]), fontsize=10, ha='center', transform=ax.transAxes) \n",
        "    ax.text(0.5, -0.7, 'act = ' + str(actual_single[idx]), fontsize=10, ha='center', transform=ax.transAxes)\n",
        "    ax.imshow(img)\n"
      ],
      "execution_count": 32,
      "outputs": [
        {
          "output_type": "stream",
          "text": [
            "10000/10000 [==============================] - 1s 68us/step\n"
          ],
          "name": "stdout"
        },
        {
          "output_type": "display_data",
          "data": {
            "image/png": "[encoded data removed]",
            "text/plain": [
              "<Figure size 1080x216 with 10 Axes>"
            ]
          },
          "metadata": {
            "tags": []
          }
        }
      ]
    }
  ]
}